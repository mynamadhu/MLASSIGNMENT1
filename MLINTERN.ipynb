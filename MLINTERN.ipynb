{
 "cells": [
  {
   "cell_type": "code",
   "execution_count": 6,
   "id": "d09ac123",
   "metadata": {},
   "outputs": [
    {
     "name": "stdout",
     "output_type": "stream",
     "text": [
      "Enter the number to find factorial:>7\n",
      "5040\n"
     ]
    }
   ],
   "source": [
    "# First Program: Factorial of a number\n",
    "number=int(input(\"Enter the number to find factorial:>\"))\n",
    "factorial=1\n",
    "for i in range(1,number+1):\n",
    "    factorial=factorial*i\n",
    "print(factorial)"
   ]
  },
  {
   "cell_type": "code",
   "execution_count": 14,
   "id": "c813d29d",
   "metadata": {},
   "outputs": [
    {
     "name": "stdout",
     "output_type": "stream",
     "text": [
      "Enter your name:>>R2D2\n",
      "Luke, I am your droid\n"
     ]
    }
   ],
   "source": [
    "# Second Program: relation_to_luke\n",
    "def relation_to_luke(name):\n",
    "    #l=[\"\",\"Leia\",\"Han\",\"R2D2\"]\n",
    "    if name==\"Darth Vader\":\n",
    "        print(\"Luke, I am your father\")\n",
    "    elif name==\"Leia\":\n",
    "        print(\"Luke, I am your sister\")\n",
    "    elif name==\"Han\":\n",
    "        print(\"Luke, I am your brother in law\")\n",
    "    elif name==\"R2D2\":\n",
    "        print(\"Luke, I am your droid\")\n",
    "name=input(\"Enter your name:>>\")\n",
    "relation_to_luke(name)    "
   ]
  },
  {
   "cell_type": "code",
   "execution_count": 18,
   "id": "82071396",
   "metadata": {
    "scrolled": true
   },
   "outputs": [
    {
     "name": "stdout",
     "output_type": "stream",
     "text": [
      "Enter the numbers:>>2\n",
      "1\n"
     ]
    }
   ],
   "source": [
    "# Third Program: print 5-->1 , 32-->2, 123-->3\n",
    "num=int(input(\"Enter the numbers:>>\"))\n",
    "if(num>=0 and num<=10):\n",
    "    print(\"1\")\n",
    "elif(num>=10 and num<=100):\n",
    "    print(\"2\")\n",
    "elif(num>=100 and num<=1000):\n",
    "    print(\"3\")"
   ]
  },
  {
   "cell_type": "code",
   "execution_count": 54,
   "id": "f78dc4e8",
   "metadata": {},
   "outputs": [
    {
     "name": "stdout",
     "output_type": "stream",
     "text": [
      "Enter the number:>5\n",
      "86400\n"
     ]
    }
   ],
   "source": [
    "# Fourth Program\n",
    "def fact(k):\n",
    "    factorial=1\n",
    "    for i in range(1,k+1):\n",
    "        factorial=factorial*i\n",
    "    return factorial\n",
    "def mul(n):\n",
    "    result = 1\n",
    "    for j in range(n+1):\n",
    "        result = fact(j)*fact(j+1)\n",
    "    return result\n",
    "num=int(input(\"Enter the number:>\"))\n",
    "k = mul(num)\n",
    "print(k)"
   ]
  },
  {
   "cell_type": "code",
   "execution_count": 52,
   "id": "de309c24",
   "metadata": {},
   "outputs": [
    {
     "name": "stdout",
     "output_type": "stream",
     "text": [
      "14\n"
     ]
    }
   ],
   "source": [
    "# Fifth program\n",
    "def mulp(*num):\n",
    "    sum = 0\n",
    "    for i in num:\n",
    "        sum = sum + (i*i)\n",
    "    print(sum)\n",
    "mulp(1,2,3)"
   ]
  },
  {
   "cell_type": "code",
   "execution_count": 20,
   "id": "a1e67986",
   "metadata": {},
   "outputs": [
    {
     "name": "stdout",
     "output_type": "stream",
     "text": [
      "Enter first number:>22\n",
      "Enter second number:>44\n",
      "Enter the operator:>/\n",
      "0.5\n"
     ]
    }
   ],
   "source": [
    "# Sixth Program function which accepts 3 arguments\n",
    "x=int(input(\"Enter first number:>\"))\n",
    "y=int(input(\"Enter second number:>\"))\n",
    "z=input(\"Enter the operator:>\")\n",
    "\n",
    "if (z==\"+\"):\n",
    "    print(x+y)\n",
    "elif(z==\"-\"):\n",
    "    print(x-y)\n",
    "elif(z==\"*\"):\n",
    "    print(x*y)\n",
    "elif(z==\"/\"):\n",
    "    print(x/y)  \n"
   ]
  },
  {
   "cell_type": "code",
   "execution_count": 42,
   "id": "93e25ae1",
   "metadata": {},
   "outputs": [
    {
     "name": "stdout",
     "output_type": "stream",
     "text": [
      "Enter the number:>>3\n",
      "I CAN\n",
      "I WILL\n",
      "I CAN\n"
     ]
    }
   ],
   "source": [
    "# Seventh Program\n",
    "num=int(input(\"Enter the number:>>\"))\n",
    "if num==1:\n",
    "    print(\"I CAN\")\n",
    "elif num==2:\n",
    "    print(\"I CAN\")\n",
    "    print(\"I WILL\")\n",
    "elif num==3:\n",
    "    print(\"I CAN\")\n",
    "    print(\"I WILL\")\n",
    "    print(\"I CAN\") \n",
    "elif (num<=0):\n",
    "    print(\"INVALID\")"
   ]
  },
  {
   "cell_type": "code",
   "execution_count": 13,
   "id": "48489255",
   "metadata": {},
   "outputs": [
    {
     "name": "stdout",
     "output_type": "stream",
     "text": [
      "4 6\n",
      "4 6\n",
      "4 6\n",
      "4 6\n",
      "4 6\n",
      "4 6\n",
      "4 6\n"
     ]
    }
   ],
   "source": [
    "# Eigth Program\n",
    "s=[1, 2, 1, 2, 1, 3, 2]\n",
    "#s.index(1,3)\n",
    "for i in s:\n",
    "    #q=s.index(1,1)\n",
    "    q=s.index(1,s.index(1,s.index(1)+1)+1)\n",
    "    r=s.index(2,s.index(2,s.index(2)+1)+1)\n",
    "    print(q,r)"
   ]
  },
  {
   "cell_type": "code",
   "execution_count": 3,
   "id": "279e0ac9",
   "metadata": {},
   "outputs": [
    {
     "data": {
      "text/plain": [
       "14795"
      ]
     },
     "execution_count": 3,
     "metadata": {},
     "output_type": "execute_result"
    }
   ],
   "source": [
    "# Tenth Program\n",
    "d=({\"cost_price\": 32.67,\"sell_price\": 45.00,\"inventory\": 1200}) \n",
    "k=d[\"inventory\"]*(d[\"sell_price\"]-d[\"cost_price\"])\n",
    "import math\n",
    "math.floor(k)"
   ]
  }
 ],
 "metadata": {
  "kernelspec": {
   "display_name": "Python 3",
   "language": "python",
   "name": "python3"
  },
  "language_info": {
   "codemirror_mode": {
    "name": "ipython",
    "version": 3
   },
   "file_extension": ".py",
   "mimetype": "text/x-python",
   "name": "python",
   "nbconvert_exporter": "python",
   "pygments_lexer": "ipython3",
   "version": "3.8.8"
  }
 },
 "nbformat": 4,
 "nbformat_minor": 5
}
